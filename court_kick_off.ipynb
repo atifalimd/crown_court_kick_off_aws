{
 "cells": [
  {
   "cell_type": "code",
   "execution_count": 1,
   "metadata": {},
   "outputs": [],
   "source": [
    "import pandas as pd\n",
    "import numpy as np\n",
    "import seaborn as sns\n",
    "import matplotlib.pyplot as plt\n",
    "import warnings\n",
    "warnings.filterwarnings('ignore')\n",
    "from sklearn.pipeline import Pipeline\n",
    "from sklearn.model_selection import train_test_split\n",
    "from sklearn.base import BaseEstimator, TransformerMixin\n",
    "from sklearn.ensemble import RandomForestClassifier\n",
    "from sklearn.linear_model import LogisticRegression\n",
    "from sklearn.tree import DecisionTreeClassifier\n",
    "from sklearn.ensemble import AdaBoostClassifier\n",
    "from sklearn.ensemble import GradientBoostingClassifier\n",
    "from sklearn.svm import SVC\n",
    "from sklearn.naive_bayes import GaussianNB\n",
    "from sklearn.model_selection import KFold, cross_val_score, GridSearchCV\n",
    "from sklearn.metrics import confusion_matrix, classification_report, accuracy_score\n",
    "from imblearn.over_sampling import RandomOverSampler\n",
    "from imblearn.under_sampling import RandomUnderSampler\n",
    "from imblearn.pipeline import Pipeline\n",
    "from imblearn import FunctionSampler\n",
    "from sklearn.compose import ColumnTransformer\n",
    "from sklearn.preprocessing import OneHotEncoder, KBinsDiscretizer\n",
    "from sklearn.feature_selection import VarianceThreshold\n",
    "from sklearn.decomposition import PCA\n",
    "#import cloudpickle as pickle\n",
    "import dill as pickle\n",
    "import pickletools"
   ]
  },
  {
   "cell_type": "code",
   "execution_count": 2,
   "metadata": {},
   "outputs": [
    {
     "data": {
      "text/plain": [
       "'1.6.0'"
      ]
     },
     "execution_count": 2,
     "metadata": {},
     "output_type": "execute_result"
    }
   ],
   "source": [
    "import cloudpickle\n",
    "cloudpickle.__version__"
   ]
  },
  {
   "cell_type": "code",
   "execution_count": 3,
   "metadata": {},
   "outputs": [],
   "source": [
    "class UploadDataFrame:\n",
    "    def upload_court_dataframe(self):\n",
    "        try:\n",
    "            return pd.read_csv(r'E:\\Compressed\\final_df\\final_df.csv')\n",
    "        except FileNotFoundError as fe:\n",
    "            print(\"File not found:\", fe)\n",
    "        except pd.errors.EmptyDataError:\n",
    "            print(\"No data\")\n",
    "        except pd.errors.ParserError:\n",
    "            print(\"Parse error\")\n",
    "        except Exception as e:\n",
    "            print(\"Error:\", e)\n",
    "\n",
    "\n",
    "data = UploadDataFrame()\n",
    "df = data.upload_court_dataframe()\n",
    "df = df[:2000]"
   ]
  },
  {
   "cell_type": "code",
   "execution_count": 4,
   "metadata": {},
   "outputs": [],
   "source": [
    "class DataCleaningAndSplitting:\n",
    "    def __init__(self, dataframe):\n",
    "        self.dataframe = dataframe\n",
    "\n",
    "    def cleaning_dataframe(self):\n",
    "        try:\n",
    "            self.dataframe.drop(columns=['Unnamed: 0.1', 'Unnamed: 0', 'T2M', 'YEAR', 'DY', 'day', 'Date'], inplace=True)\n",
    "            self.dataframe['incident_dates'] = self.dataframe['incident_dates'].notnull().astype('int')\n",
    "            self.dataframe = self.dataframe.drop(columns=['Facts / Distinguishing Features'])\n",
    "            self.dataframe = self.dataframe.rename(columns={'Indictment / Offence': 'offence', 'T2M_MAX': 'temp_max',\n",
    "                                                            'T2M_MIN': 'temp_min'})\n",
    "            x = self.dataframe.drop(columns=['incident_dates', 'index'])\n",
    "            y = self.dataframe['incident_dates']\n",
    "            x_trn, x_tst, y_trn, y_tst = train_test_split(x, y, test_size=0.3, random_state=1)\n",
    "            return x_trn, x_tst, y_trn, y_tst\n",
    "\n",
    "        except KeyError as ke:\n",
    "            return 'KeyError at method cleaning_dataframe of class DataCleaningAndSplitting:', ke\n",
    "        except ValueError as ve:\n",
    "            return 'ValueError at method cleaning_dataframe of class DataCleaningAndSplitting:', ve\n",
    "        except Exception as e:\n",
    "            return 'Error at method cleaning_dataframe of class DataCleaningAndSplitting:', e\n"
   ]
  },
  {
   "cell_type": "code",
   "execution_count": 5,
   "metadata": {},
   "outputs": [],
   "source": [
    "def splitting_dataframe():\n",
    "    try:\n",
    "        df_clean_split = DataCleaningAndSplitting(df)\n",
    "        return df_clean_split.cleaning_dataframe()\n",
    "    except KeyError as ke:\n",
    "        return 'KeyError at function splitting_dataframe:', ke\n",
    "    except ValueError as ve:\n",
    "        return 'ValueError at function splitting_dataframe :', ve\n",
    "    except Exception as e:\n",
    "        return 'Error at function splitting_dataframe :', e\n",
    "\n",
    "\n",
    "\n",
    "df_cleaning=DataCleaningAndSplitting(df)\n",
    "x_train,x_test,y_train,y_test=splitting_dataframe()\n"
   ]
  },
  {
   "cell_type": "code",
   "execution_count": 6,
   "metadata": {},
   "outputs": [],
   "source": [
    "class FillNan(BaseEstimator, TransformerMixin):\n",
    "\n",
    "    def fit(self, X, y=None):\n",
    "        return self\n",
    "\n",
    "    def transform (self, X, y=None):\n",
    "        try:\n",
    "            col_nan = X.columns[X.isnull().sum() > 0].to_list()\n",
    "            for col in col_nan:\n",
    "                X[col][X[col].isnull()] = X[col].dropna().sample(X[col].isnull().sum()).values\n",
    "            return X\n",
    "        except KeyError as ke:\n",
    "            return 'KeyError at transform of class FillNan :', ke\n",
    "        except ValueError as ve:\n",
    "            return 'ValueError at transform of class FillNan:', ve\n",
    "        except Exception as e:\n",
    "            return 'Error at transform of class FillNan:', e\n"
   ]
  },
  {
   "cell_type": "code",
   "execution_count": 7,
   "metadata": {},
   "outputs": [],
   "source": [
    "class TypeCastingCourtRoom(BaseEstimator, TransformerMixin):\n",
    "    def __init__(self, court_room):\n",
    "        self.court_room = court_room\n",
    "\n",
    "    def fit(self, X, y=None):\n",
    "        return self\n",
    "\n",
    "    def transform(self, X, y=None):\n",
    "        try:\n",
    "            X[self.court_room] = X[self.court_room].astype(str)\n",
    "            return X\n",
    "        except KeyError as ke:\n",
    "            return 'KeyError at transform of class TypeCastingCourtRoom :', ke\n",
    "        except ValueError as ve:\n",
    "            return 'ValueError at transform of class TypeCastingCourtRoom:', ve\n",
    "        except Exception as e:\n",
    "            return 'Error at transform of class TypeCastingCourtRoom:', e\n",
    "\n",
    "def removingoutliers(X,y):\n",
    "    lower_outlier=X[X['Age'].str.split().str.get(0).astype(int)<10].index.to_list()\n",
    "    upper_outlier=X[X['Age'].str.split().str.get(0).astype(int)>80].index.to_list()\n",
    "    outliers = lower_outlier+upper_outlier\n",
    "    X=X.drop(index=outliers)\n",
    "    y=y.drop(index=outliers)\n",
    "    return X,y"
   ]
  },
  {
   "cell_type": "code",
   "execution_count": 8,
   "metadata": {},
   "outputs": [],
   "source": [
    "class CleaningAgeGenderSentence(BaseEstimator, TransformerMixin):\n",
    "    def __init__(self, Age, Gender, Sentence):\n",
    "        self.Gender = Gender\n",
    "        self.Age = Age\n",
    "        self.Sentence = Sentence\n",
    "\n",
    "    def fit(self, X, y=None):\n",
    "        return self\n",
    "\n",
    "    def transform(self, X, y=None):\n",
    "        try:\n",
    "            X[self.Age] = KBinsDiscretizer(n_bins=10, encode='ordinal', strategy='kmeans')\n",
    "            X[self.Gender] = X[self.Gender].apply(lambda a: X[self.Gender].mode()[0] if a == 'No Answer' else a)\n",
    "            X[self.Sentence] = X[self.Sentence].str.split().str.get(-1)\n",
    "            X[self.Sentence] = X[self.Sentence].apply(lambda x: 'Non-custodial' if x == 'Non-custodialNon-custodial'else x)\n",
    "            \n",
    "            return pd.DataFrame(X)\n",
    "        \n",
    "        except KeyError as ke:\n",
    "            return 'KeyError at transform of class CleaningAgeGenderSentence :', ke\n",
    "        except ValueError as ve:\n",
    "            return 'ValueError at transform of class CleaningAgeGenderSentence:', ve\n",
    "        except Exception as e:\n",
    "            return 'Error at transform of class CleaningAgeGenderSentence:', e"
   ]
  },
  {
   "cell_type": "code",
   "execution_count": null,
   "metadata": {},
   "outputs": [],
   "source": []
  },
  {
   "cell_type": "code",
   "execution_count": null,
   "metadata": {},
   "outputs": [],
   "source": []
  },
  {
   "cell_type": "code",
   "execution_count": null,
   "metadata": {},
   "outputs": [],
   "source": []
  },
  {
   "cell_type": "code",
   "execution_count": null,
   "metadata": {},
   "outputs": [],
   "source": []
  },
  {
   "cell_type": "code",
   "execution_count": null,
   "metadata": {},
   "outputs": [],
   "source": []
  },
  {
   "cell_type": "code",
   "execution_count": null,
   "metadata": {},
   "outputs": [],
   "source": []
  },
  {
   "cell_type": "code",
   "execution_count": null,
   "metadata": {},
   "outputs": [],
   "source": []
  },
  {
   "cell_type": "code",
   "execution_count": 9,
   "metadata": {},
   "outputs": [],
   "source": [
    "class CleaningOffence(BaseEstimator, TransformerMixin):\n",
    "    lst_offence = ['Murder', 'Manslaughter', 'GBH', 'drugs', 'Rape', 'driving', 'Robbery', 'ABH', 'Sexual', 'burglary',\n",
    "                   'weapon', 'wounding']\n",
    "\n",
    "    def __init__(self, offence):\n",
    "        self.offence = offence\n",
    "\n",
    "    def fit(self, X, y=None):\n",
    "        return self\n",
    "\n",
    "    def check_word(self, text):\n",
    "        try:\n",
    "            for i in CleaningOffence.lst_offence:\n",
    "                if i.lower() in text.split():\n",
    "                    return i.lower()\n",
    "        except KeyError as ke:\n",
    "            return 'KeyError at check_word of class CleaningOffence :', ke\n",
    "        except ValueError as ve:\n",
    "            return 'ValueError at check_word of class CleaningOffence:', ve\n",
    "        except Exception as e:\n",
    "            return 'Error at check_word of class CleaningOffence:', e\n",
    "\n",
    "    def transform(self, X, y=None):\n",
    "        try:\n",
    "            X[self.offence] = X[self.offence].apply(self.check_word)\n",
    "            X[self.offence] = X[self.offence].apply(lambda x: 'other' if x == None else x.lower())\n",
    "            X[self.offence] = X[self.offence].apply(lambda x: 'burglary' if x == 'Robbery' else x.lower())\n",
    "            X[self.offence] = X[self.offence].apply(lambda x: 'Sexual' if x == 'Rape' else x.lower())\n",
    "            X[self.offence] = X[self.offence].apply(lambda x: 'body_harm' if x == 'ABH' or x == 'wounding' else x.lower())\n",
    "            X[self.offence] = X[self.offence].apply(lambda x: 'Murder' if x == 'Manslaughter' else x.lower())\n",
    "            return X\n",
    "        except KeyError as ke:\n",
    "            return 'KeyError at transform of class CleaningOffence :', ke\n",
    "        except ValueError as ve:\n",
    "            return 'ValueError at transform of class CleaningOffence:', ve\n",
    "        except Exception as e:\n",
    "            return 'Error at transform of class CleaningOffence:', e"
   ]
  },
  {
   "cell_type": "code",
   "execution_count": 10,
   "metadata": {},
   "outputs": [],
   "source": [
    "class OHE(BaseEstimator,TransformerMixin):\n",
    "\n",
    "    def fit(self,X,y=None):\n",
    "        return self\n",
    "\n",
    "    def transform(self,X,y=None):\n",
    "        try:\n",
    "            cat_cols=X.select_dtypes(include='object').columns.to_list()\n",
    "            ohe=OneHotEncoder(sparse=False,handle_unknown='ignore',drop='first',dtype='int')\n",
    "            ohe_df=pd.DataFrame(ohe.fit_transform(X[cat_cols]))\n",
    "            ohe_df.columns = ohe.get_feature_names_out(input_features = cat_cols)\n",
    "            num_cols=X.select_dtypes(exclude='object').columns.to_list()\n",
    "            num_df=X[num_cols]\n",
    "            return pd.concat([num_df, ohe_df.set_index(num_df.index)], axis=1)\n",
    "        except KeyError as ke:\n",
    "            return 'KeyError at transform of class OHE :', ke\n",
    "        except ValueError as ve:\n",
    "            return 'ValueError at transform of class OHE:', ve\n",
    "        except Exception as e:\n",
    "            return 'Error at transform of class OHE:', e"
   ]
  },
  {
   "cell_type": "code",
   "execution_count": 11,
   "metadata": {},
   "outputs": [],
   "source": [
    "class PCAColumns(BaseEstimator,TransformerMixin):\n",
    "    def fit(self,X,y=None):\n",
    "        return self\n",
    "\n",
    "    def transform(self,X,y=None):\n",
    "        pca=PCA(n_components=0.4)\n",
    "        X=pd.DataFrame(pca.fit_transform(X))\n",
    "        return X"
   ]
  },
  {
   "cell_type": "code",
   "execution_count": 12,
   "metadata": {},
   "outputs": [],
   "source": [
    "def random_over_sampler():\n",
    "    try:\n",
    "        over = RandomOverSampler(sampling_strategy=1, random_state=42)\n",
    "        return over\n",
    "\n",
    "    except KeyError as ke:\n",
    "        return 'KeyError at function of random_over_sampler:', ke\n",
    "    except ValueError as ve:\n",
    "        return 'ValueError at function of random_over_sampler:', ve\n",
    "    except Exception as e:\n",
    "        return 'Error at function of random_over_sampler:', e"
   ]
  },
  {
   "cell_type": "code",
   "execution_count": 13,
   "metadata": {},
   "outputs": [],
   "source": [
    "random_forest_param_grid = {\n",
    "    'n_estimators': [100,200,300,400,500],\n",
    "    'max_features': ['auto', 'sqrt', 'log2'],\n",
    "    'max_depth' : [4,5,6,7,8],\n",
    "    'criterion' :['gini', 'entropy'] }\n",
    "\n",
    "\n",
    "random_forest_class = Pipeline(steps=[\n",
    "\n",
    "    ('nan_transformer', FillNan()),\n",
    "    ('type_cast', TypeCastingCourtRoom('court_room')),\n",
    "    ('remove_outliers', FunctionSampler(func=removingoutliers, validate=False)),\n",
    "    ('cleaning_columns', CleaningAgeGenderSentence('Age', 'Gender', 'Sentence')),\n",
    "    ('cleaning_offence', CleaningOffence('offence')),\n",
    "    ('ohe', OHE()),\n",
    "    ('over', random_over_sampler()),\n",
    "    ('pca',PCAColumns()),\n",
    "    ('rf',RandomForestClassifier()),\n",
    "    #('rf',GridSearchCV(RandomForestClassifier(),random_forest_param_grid))\n",
    "])"
   ]
  },
  {
   "cell_type": "code",
   "execution_count": 14,
   "metadata": {},
   "outputs": [],
   "source": [
    "decision_tree_param_grid = {\n",
    "    'max_depth': [2, 3, 5, 10, 20],\n",
    "    'min_samples_leaf': [5, 10, 20, 50, 100],\n",
    "    'criterion': [\"gini\", \"entropy\"]\n",
    "}\n",
    "\n",
    "decision_tree_class= Pipeline(steps=[\n",
    "    ('nan_transformer', FillNan()),\n",
    "    ('type_cast', TypeCastingCourtRoom('court_room')),\n",
    "    ('remove_outliers', FunctionSampler(func=removingoutliers, validate=False)),\n",
    "    ('cleaning_columns', CleaningAgeGenderSentence('Age', 'Gender', 'Sentence')),\n",
    "    ('cleaning_offence', CleaningOffence('offence')),\n",
    "    ('ohe', OHE()),\n",
    "    ('over', random_over_sampler()),\n",
    "    ('pca', PCAColumns()),\n",
    "    ('dt',DecisionTreeClassifier(random_state=1))\n",
    "    #('dt',GridSearchCV(DecisionTreeClassifier(),decision_tree_param_grid))\n",
    "     ])"
   ]
  },
  {
   "cell_type": "code",
   "execution_count": 15,
   "metadata": {},
   "outputs": [],
   "source": [
    "logistic_reg_param_grid = {\n",
    "    'penalty' : ['l1', 'l2', 'elasticnet', 'none'],\n",
    "    'C' : np.logspace(-4, 4, 20),\n",
    "    'solver' : ['lbfgs','newton-cg','liblinear','sag','saga'],\n",
    "    'max_iter' : [100, 1000,2500, 5000]\n",
    "    }\n",
    "\n",
    "logistic_regression = Pipeline(steps=[\n",
    "    ('nan_transformer', FillNan()),\n",
    "    ('type_cast', TypeCastingCourtRoom('court_room')),\n",
    "    ('remove_outliers', FunctionSampler(func=removingoutliers, validate=False)),\n",
    "    ('cleaning_columns', CleaningAgeGenderSentence('Age', 'Gender', 'Sentence')),\n",
    "    ('cleaning_offence', CleaningOffence('offence')),\n",
    "    ('ohe', OHE()),\n",
    "    ('over', random_over_sampler()),\n",
    "    ('pca', PCAColumns()),\n",
    "    ('lr', LogisticRegression(random_state=1))\n",
    "    #('lr',GridSearchCV(LogisticRegression(),logistic_reg_param_grid))\n",
    "     ])"
   ]
  },
  {
   "cell_type": "code",
   "execution_count": 16,
   "metadata": {},
   "outputs": [],
   "source": [
    "Ada_boost_param_grid ={\n",
    "    'n_estimators': [1, 2, 3, 4, 5, 6, 7, 8, 9, 10, 11, 12, 20, 30],\n",
    "    'learning_rate': [0.01,0.1,1,10],\n",
    "    'algorithm': ['SAMME', 'SAMME.R']\n",
    "}\n",
    "ada_boost_class = Pipeline(steps=[\n",
    "    ('nan_transformer', FillNan()),\n",
    "    ('type_cast', TypeCastingCourtRoom('court_room')),\n",
    "    ('remove_outliers', FunctionSampler(func=removingoutliers, validate=False)),\n",
    "    ('cleaning_columns', CleaningAgeGenderSentence('Age', 'Gender', 'Sentence')),\n",
    "    ('cleaning_offence', CleaningOffence('offence')),\n",
    "    ('ohe', OHE()),\n",
    "    ('over', random_over_sampler()),\n",
    "    ('pca', PCAColumns()),\n",
    "    ('ada',AdaBoostClassifier(random_state=1))\n",
    "    #('ada',GridSearchCV(AdaBoostClassifier(),Ada_boost_param_grid))\n",
    "])\n"
   ]
  },
  {
   "cell_type": "code",
   "execution_count": 17,
   "metadata": {},
   "outputs": [],
   "source": [
    "gradient_boosting_param_grid = {\n",
    "    \"n_estimators\":[5,50,100,250,350,500],\n",
    "    \"max_depth\":[1,3,5,7,9,11,13],\n",
    "    \"learning_rate\":[0.01,0.1,1,10]\n",
    "}\n",
    "\n",
    "gradient_boosting_class = Pipeline(steps=[\n",
    "    ('nan_transformer', FillNan()),\n",
    "    ('type_cast', TypeCastingCourtRoom('court_room')),\n",
    "    ('remove_outliers', FunctionSampler(func=removingoutliers, validate=False)),\n",
    "    ('cleaning_columns', CleaningAgeGenderSentence('Age', 'Gender', 'Sentence')),\n",
    "    ('cleaning_offence', CleaningOffence('offence')),\n",
    "    ('ohe', OHE()),\n",
    "    ('over', random_over_sampler()),\n",
    "    ('pca', PCAColumns()),\n",
    "    ('gb', GradientBoostingClassifier())\n",
    "    ])\n",
    "    #('gb',GridSearchCV(GradientBoostingClassifier(),gradient_boosting_param_grid))"
   ]
  },
  {
   "cell_type": "code",
   "execution_count": 18,
   "metadata": {},
   "outputs": [],
   "source": [
    "class BestModel:\n",
    "    mypipeline=[random_forest_class, gradient_boosting_class, ada_boost_class, decision_tree_class, logistic_regression]\n",
    "    pipeline_dict = {0: 'Random Forest',1: 'Decision Tree', 3: 'Ada Boost', 4: 'Gradient Boosting',\n",
    "                     2: 'Logistic Regression'}\n",
    "    best_model = []\n",
    "    accuracy = 0\n",
    "    classifier = 0\n",
    "    pipeline = ''\n",
    "    def prediction(self):\n",
    "            try:\n",
    "                for pipe in BestModel.mypipeline:\n",
    "                    pipe.fit(x_train, y_train)\n",
    "\n",
    "                for i,model in enumerate(BestModel.mypipeline):\n",
    "                    if model.score(x_test,y_test)>BestModel.accuracy:\n",
    "                        BestModel.accuracy=model.score(x_test,y_test)\n",
    "                        BestModel.pipeline=model\n",
    "                        BestModel.classfier=i\n",
    "                BestModel.best_model.append(BestModel.pipeline_dict[BestModel.classfier])\n",
    "                #print('The Best classifier is {}'.format(BestModel.pipeline_dict[BestModel.classfier]))\n",
    "\n",
    "                return model\n",
    "\n",
    "            except KeyError as ke:\n",
    "                return 'KeyError at class of BestModel:', ke\n",
    "            except ValueError as ve:\n",
    "                return 'ValueError at class of BestModel:', ve\n",
    "            except Exception as e:\n",
    "                return 'Error at class of BestModel:', e"
   ]
  },
  {
   "cell_type": "code",
   "execution_count": 19,
   "metadata": {
    "scrolled": true
   },
   "outputs": [],
   "source": [
    "best_model = BestModel().prediction()"
   ]
  },
  {
   "cell_type": "code",
   "execution_count": 20,
   "metadata": {},
   "outputs": [
    {
     "data": {
      "text/html": [
       "<style>#sk-container-id-1 {color: black;background-color: white;}#sk-container-id-1 pre{padding: 0;}#sk-container-id-1 div.sk-toggleable {background-color: white;}#sk-container-id-1 label.sk-toggleable__label {cursor: pointer;display: block;width: 100%;margin-bottom: 0;padding: 0.3em;box-sizing: border-box;text-align: center;}#sk-container-id-1 label.sk-toggleable__label-arrow:before {content: \"▸\";float: left;margin-right: 0.25em;color: #696969;}#sk-container-id-1 label.sk-toggleable__label-arrow:hover:before {color: black;}#sk-container-id-1 div.sk-estimator:hover label.sk-toggleable__label-arrow:before {color: black;}#sk-container-id-1 div.sk-toggleable__content {max-height: 0;max-width: 0;overflow: hidden;text-align: left;background-color: #f0f8ff;}#sk-container-id-1 div.sk-toggleable__content pre {margin: 0.2em;color: black;border-radius: 0.25em;background-color: #f0f8ff;}#sk-container-id-1 input.sk-toggleable__control:checked~div.sk-toggleable__content {max-height: 200px;max-width: 100%;overflow: auto;}#sk-container-id-1 input.sk-toggleable__control:checked~label.sk-toggleable__label-arrow:before {content: \"▾\";}#sk-container-id-1 div.sk-estimator input.sk-toggleable__control:checked~label.sk-toggleable__label {background-color: #d4ebff;}#sk-container-id-1 div.sk-label input.sk-toggleable__control:checked~label.sk-toggleable__label {background-color: #d4ebff;}#sk-container-id-1 input.sk-hidden--visually {border: 0;clip: rect(1px 1px 1px 1px);clip: rect(1px, 1px, 1px, 1px);height: 1px;margin: -1px;overflow: hidden;padding: 0;position: absolute;width: 1px;}#sk-container-id-1 div.sk-estimator {font-family: monospace;background-color: #f0f8ff;border: 1px dotted black;border-radius: 0.25em;box-sizing: border-box;margin-bottom: 0.5em;}#sk-container-id-1 div.sk-estimator:hover {background-color: #d4ebff;}#sk-container-id-1 div.sk-parallel-item::after {content: \"\";width: 100%;border-bottom: 1px solid gray;flex-grow: 1;}#sk-container-id-1 div.sk-label:hover label.sk-toggleable__label {background-color: #d4ebff;}#sk-container-id-1 div.sk-serial::before {content: \"\";position: absolute;border-left: 1px solid gray;box-sizing: border-box;top: 0;bottom: 0;left: 50%;z-index: 0;}#sk-container-id-1 div.sk-serial {display: flex;flex-direction: column;align-items: center;background-color: white;padding-right: 0.2em;padding-left: 0.2em;position: relative;}#sk-container-id-1 div.sk-item {position: relative;z-index: 1;}#sk-container-id-1 div.sk-parallel {display: flex;align-items: stretch;justify-content: center;background-color: white;position: relative;}#sk-container-id-1 div.sk-item::before, #sk-container-id-1 div.sk-parallel-item::before {content: \"\";position: absolute;border-left: 1px solid gray;box-sizing: border-box;top: 0;bottom: 0;left: 50%;z-index: -1;}#sk-container-id-1 div.sk-parallel-item {display: flex;flex-direction: column;z-index: 1;position: relative;background-color: white;}#sk-container-id-1 div.sk-parallel-item:first-child::after {align-self: flex-end;width: 50%;}#sk-container-id-1 div.sk-parallel-item:last-child::after {align-self: flex-start;width: 50%;}#sk-container-id-1 div.sk-parallel-item:only-child::after {width: 0;}#sk-container-id-1 div.sk-dashed-wrapped {border: 1px dashed gray;margin: 0 0.4em 0.5em 0.4em;box-sizing: border-box;padding-bottom: 0.4em;background-color: white;}#sk-container-id-1 div.sk-label label {font-family: monospace;font-weight: bold;display: inline-block;line-height: 1.2em;}#sk-container-id-1 div.sk-label-container {text-align: center;}#sk-container-id-1 div.sk-container {/* jupyter's `normalize.less` sets `[hidden] { display: none; }` but bootstrap.min.css set `[hidden] { display: none !important; }` so we also need the `!important` here to be able to override the default hidden behavior on the sphinx rendered scikit-learn.org. See: https://github.com/scikit-learn/scikit-learn/issues/21755 */display: inline-block !important;position: relative;}#sk-container-id-1 div.sk-text-repr-fallback {display: none;}</style><div id=\"sk-container-id-1\" class=\"sk-top-container\"><div class=\"sk-text-repr-fallback\"><pre>Pipeline(steps=[(&#x27;nan_transformer&#x27;, FillNan()),\n",
       "                (&#x27;type_cast&#x27;, TypeCastingCourtRoom(court_room=&#x27;court_room&#x27;)),\n",
       "                (&#x27;remove_outliers&#x27;,\n",
       "                 FunctionSampler(func=&lt;function removingoutliers at 0x00000154858C2700&gt;,\n",
       "                                 validate=False)),\n",
       "                (&#x27;cleaning_columns&#x27;,\n",
       "                 CleaningAgeGenderSentence(Age=&#x27;Age&#x27;, Gender=&#x27;Gender&#x27;,\n",
       "                                           Sentence=&#x27;Sentence&#x27;)),\n",
       "                (&#x27;cleaning_offence&#x27;, CleaningOffence(offence=&#x27;offence&#x27;)),\n",
       "                (&#x27;ohe&#x27;, OHE()),\n",
       "                (&#x27;over&#x27;,\n",
       "                 RandomOverSampler(random_state=42, sampling_strategy=1)),\n",
       "                (&#x27;pca&#x27;, PCAColumns()),\n",
       "                (&#x27;lr&#x27;, LogisticRegression(random_state=1))])</pre><b>In a Jupyter environment, please rerun this cell to show the HTML representation or trust the notebook. <br />On GitHub, the HTML representation is unable to render, please try loading this page with nbviewer.org.</b></div><div class=\"sk-container\" hidden><div class=\"sk-item sk-dashed-wrapped\"><div class=\"sk-label-container\"><div class=\"sk-label sk-toggleable\"><input class=\"sk-toggleable__control sk-hidden--visually\" id=\"sk-estimator-id-1\" type=\"checkbox\" ><label for=\"sk-estimator-id-1\" class=\"sk-toggleable__label sk-toggleable__label-arrow\">Pipeline</label><div class=\"sk-toggleable__content\"><pre>Pipeline(steps=[(&#x27;nan_transformer&#x27;, FillNan()),\n",
       "                (&#x27;type_cast&#x27;, TypeCastingCourtRoom(court_room=&#x27;court_room&#x27;)),\n",
       "                (&#x27;remove_outliers&#x27;,\n",
       "                 FunctionSampler(func=&lt;function removingoutliers at 0x00000154858C2700&gt;,\n",
       "                                 validate=False)),\n",
       "                (&#x27;cleaning_columns&#x27;,\n",
       "                 CleaningAgeGenderSentence(Age=&#x27;Age&#x27;, Gender=&#x27;Gender&#x27;,\n",
       "                                           Sentence=&#x27;Sentence&#x27;)),\n",
       "                (&#x27;cleaning_offence&#x27;, CleaningOffence(offence=&#x27;offence&#x27;)),\n",
       "                (&#x27;ohe&#x27;, OHE()),\n",
       "                (&#x27;over&#x27;,\n",
       "                 RandomOverSampler(random_state=42, sampling_strategy=1)),\n",
       "                (&#x27;pca&#x27;, PCAColumns()),\n",
       "                (&#x27;lr&#x27;, LogisticRegression(random_state=1))])</pre></div></div></div><div class=\"sk-serial\"><div class=\"sk-item\"><div class=\"sk-estimator sk-toggleable\"><input class=\"sk-toggleable__control sk-hidden--visually\" id=\"sk-estimator-id-2\" type=\"checkbox\" ><label for=\"sk-estimator-id-2\" class=\"sk-toggleable__label sk-toggleable__label-arrow\">FillNan</label><div class=\"sk-toggleable__content\"><pre>FillNan()</pre></div></div></div><div class=\"sk-item\"><div class=\"sk-estimator sk-toggleable\"><input class=\"sk-toggleable__control sk-hidden--visually\" id=\"sk-estimator-id-3\" type=\"checkbox\" ><label for=\"sk-estimator-id-3\" class=\"sk-toggleable__label sk-toggleable__label-arrow\">TypeCastingCourtRoom</label><div class=\"sk-toggleable__content\"><pre>TypeCastingCourtRoom(court_room=&#x27;court_room&#x27;)</pre></div></div></div><div class=\"sk-item\"><div class=\"sk-estimator sk-toggleable\"><input class=\"sk-toggleable__control sk-hidden--visually\" id=\"sk-estimator-id-4\" type=\"checkbox\" ><label for=\"sk-estimator-id-4\" class=\"sk-toggleable__label sk-toggleable__label-arrow\">FunctionSampler</label><div class=\"sk-toggleable__content\"><pre>FunctionSampler(func=&lt;function removingoutliers at 0x00000154858C2700&gt;,\n",
       "                validate=False)</pre></div></div></div><div class=\"sk-item\"><div class=\"sk-estimator sk-toggleable\"><input class=\"sk-toggleable__control sk-hidden--visually\" id=\"sk-estimator-id-5\" type=\"checkbox\" ><label for=\"sk-estimator-id-5\" class=\"sk-toggleable__label sk-toggleable__label-arrow\">CleaningAgeGenderSentence</label><div class=\"sk-toggleable__content\"><pre>CleaningAgeGenderSentence(Age=&#x27;Age&#x27;, Gender=&#x27;Gender&#x27;, Sentence=&#x27;Sentence&#x27;)</pre></div></div></div><div class=\"sk-item\"><div class=\"sk-estimator sk-toggleable\"><input class=\"sk-toggleable__control sk-hidden--visually\" id=\"sk-estimator-id-6\" type=\"checkbox\" ><label for=\"sk-estimator-id-6\" class=\"sk-toggleable__label sk-toggleable__label-arrow\">CleaningOffence</label><div class=\"sk-toggleable__content\"><pre>CleaningOffence(offence=&#x27;offence&#x27;)</pre></div></div></div><div class=\"sk-item\"><div class=\"sk-estimator sk-toggleable\"><input class=\"sk-toggleable__control sk-hidden--visually\" id=\"sk-estimator-id-7\" type=\"checkbox\" ><label for=\"sk-estimator-id-7\" class=\"sk-toggleable__label sk-toggleable__label-arrow\">OHE</label><div class=\"sk-toggleable__content\"><pre>OHE()</pre></div></div></div><div class=\"sk-item\"><div class=\"sk-estimator sk-toggleable\"><input class=\"sk-toggleable__control sk-hidden--visually\" id=\"sk-estimator-id-8\" type=\"checkbox\" ><label for=\"sk-estimator-id-8\" class=\"sk-toggleable__label sk-toggleable__label-arrow\">RandomOverSampler</label><div class=\"sk-toggleable__content\"><pre>RandomOverSampler(random_state=42, sampling_strategy=1)</pre></div></div></div><div class=\"sk-item\"><div class=\"sk-estimator sk-toggleable\"><input class=\"sk-toggleable__control sk-hidden--visually\" id=\"sk-estimator-id-9\" type=\"checkbox\" ><label for=\"sk-estimator-id-9\" class=\"sk-toggleable__label sk-toggleable__label-arrow\">PCAColumns</label><div class=\"sk-toggleable__content\"><pre>PCAColumns()</pre></div></div></div><div class=\"sk-item\"><div class=\"sk-estimator sk-toggleable\"><input class=\"sk-toggleable__control sk-hidden--visually\" id=\"sk-estimator-id-10\" type=\"checkbox\" ><label for=\"sk-estimator-id-10\" class=\"sk-toggleable__label sk-toggleable__label-arrow\">LogisticRegression</label><div class=\"sk-toggleable__content\"><pre>LogisticRegression(random_state=1)</pre></div></div></div></div></div></div></div>"
      ],
      "text/plain": [
       "Pipeline(steps=[('nan_transformer', FillNan()),\n",
       "                ('type_cast', TypeCastingCourtRoom(court_room='court_room')),\n",
       "                ('remove_outliers',\n",
       "                 FunctionSampler(func=<function removingoutliers at 0x00000154858C2700>,\n",
       "                                 validate=False)),\n",
       "                ('cleaning_columns',\n",
       "                 CleaningAgeGenderSentence(Age='Age', Gender='Gender',\n",
       "                                           Sentence='Sentence')),\n",
       "                ('cleaning_offence', CleaningOffence(offence='offence')),\n",
       "                ('ohe', OHE()),\n",
       "                ('over',\n",
       "                 RandomOverSampler(random_state=42, sampling_strategy=1)),\n",
       "                ('pca', PCAColumns()),\n",
       "                ('lr', LogisticRegression(random_state=1))])"
      ]
     },
     "execution_count": 20,
     "metadata": {},
     "output_type": "execute_result"
    }
   ],
   "source": [
    "best_model"
   ]
  },
  {
   "cell_type": "code",
   "execution_count": 21,
   "metadata": {},
   "outputs": [
    {
     "data": {
      "text/plain": [
       "array([0])"
      ]
     },
     "execution_count": 21,
     "metadata": {},
     "output_type": "execute_result"
    }
   ],
   "source": [
    "best_model.predict(\n",
    "pd.DataFrame([['Male', '27 Years', 'ABH Assault occasioning actual bodily harm',\n",
    "                                   'Custodial immediate', 3, 15.21, 7.57,\n",
    "                                   'May', 'For Trial']],\n",
    "                                 columns=['Gender', 'Age', 'offence', 'Sentence', 'court_room', 'temp_max',\n",
    "                                          'temp_min', 'month', 'reason'])\n",
    "                )"
   ]
  },
  {
   "cell_type": "code",
   "execution_count": 22,
   "metadata": {},
   "outputs": [],
   "source": [
    "#pd.DataFrame([[data.values()]],columns=[data.keys()])"
   ]
  },
  {
   "cell_type": "code",
   "execution_count": 23,
   "metadata": {},
   "outputs": [
    {
     "data": {
      "text/plain": [
       "array([0])"
      ]
     },
     "execution_count": 23,
     "metadata": {},
     "output_type": "execute_result"
    }
   ],
   "source": [
    "best_model.predict(pd.DataFrame([['Male', '27 Years', 'ABH Assault occasioning actual bodily harm',\n",
    "                                   'Custodial immediate', 3, 15.21, 7.57,\n",
    "                                   'May', 'For Trial']],\n",
    "                                 columns=['Gender', 'Age', 'offence', 'Sentence', 'court_room', 'temp_max',\n",
    "                                          'temp_min', 'month', 'reason']))"
   ]
  },
  {
   "cell_type": "code",
   "execution_count": 24,
   "metadata": {},
   "outputs": [],
   "source": [
    "import cloudpickle as pickle\n",
    "import pickletools"
   ]
  },
  {
   "cell_type": "code",
   "execution_count": 25,
   "metadata": {},
   "outputs": [],
   "source": [
    "with open('model.pkl', 'wb') as f:\n",
    "    pickle.dump(best_model, f)"
   ]
  },
  {
   "cell_type": "code",
   "execution_count": 26,
   "metadata": {},
   "outputs": [],
   "source": [
    "with open('model.pkl' , 'rb') as f:\n",
    "    model = pickle.load(f)"
   ]
  },
  {
   "cell_type": "code",
   "execution_count": 27,
   "metadata": {},
   "outputs": [
    {
     "data": {
      "text/html": [
       "<style>#sk-container-id-2 {color: black;background-color: white;}#sk-container-id-2 pre{padding: 0;}#sk-container-id-2 div.sk-toggleable {background-color: white;}#sk-container-id-2 label.sk-toggleable__label {cursor: pointer;display: block;width: 100%;margin-bottom: 0;padding: 0.3em;box-sizing: border-box;text-align: center;}#sk-container-id-2 label.sk-toggleable__label-arrow:before {content: \"▸\";float: left;margin-right: 0.25em;color: #696969;}#sk-container-id-2 label.sk-toggleable__label-arrow:hover:before {color: black;}#sk-container-id-2 div.sk-estimator:hover label.sk-toggleable__label-arrow:before {color: black;}#sk-container-id-2 div.sk-toggleable__content {max-height: 0;max-width: 0;overflow: hidden;text-align: left;background-color: #f0f8ff;}#sk-container-id-2 div.sk-toggleable__content pre {margin: 0.2em;color: black;border-radius: 0.25em;background-color: #f0f8ff;}#sk-container-id-2 input.sk-toggleable__control:checked~div.sk-toggleable__content {max-height: 200px;max-width: 100%;overflow: auto;}#sk-container-id-2 input.sk-toggleable__control:checked~label.sk-toggleable__label-arrow:before {content: \"▾\";}#sk-container-id-2 div.sk-estimator input.sk-toggleable__control:checked~label.sk-toggleable__label {background-color: #d4ebff;}#sk-container-id-2 div.sk-label input.sk-toggleable__control:checked~label.sk-toggleable__label {background-color: #d4ebff;}#sk-container-id-2 input.sk-hidden--visually {border: 0;clip: rect(1px 1px 1px 1px);clip: rect(1px, 1px, 1px, 1px);height: 1px;margin: -1px;overflow: hidden;padding: 0;position: absolute;width: 1px;}#sk-container-id-2 div.sk-estimator {font-family: monospace;background-color: #f0f8ff;border: 1px dotted black;border-radius: 0.25em;box-sizing: border-box;margin-bottom: 0.5em;}#sk-container-id-2 div.sk-estimator:hover {background-color: #d4ebff;}#sk-container-id-2 div.sk-parallel-item::after {content: \"\";width: 100%;border-bottom: 1px solid gray;flex-grow: 1;}#sk-container-id-2 div.sk-label:hover label.sk-toggleable__label {background-color: #d4ebff;}#sk-container-id-2 div.sk-serial::before {content: \"\";position: absolute;border-left: 1px solid gray;box-sizing: border-box;top: 0;bottom: 0;left: 50%;z-index: 0;}#sk-container-id-2 div.sk-serial {display: flex;flex-direction: column;align-items: center;background-color: white;padding-right: 0.2em;padding-left: 0.2em;position: relative;}#sk-container-id-2 div.sk-item {position: relative;z-index: 1;}#sk-container-id-2 div.sk-parallel {display: flex;align-items: stretch;justify-content: center;background-color: white;position: relative;}#sk-container-id-2 div.sk-item::before, #sk-container-id-2 div.sk-parallel-item::before {content: \"\";position: absolute;border-left: 1px solid gray;box-sizing: border-box;top: 0;bottom: 0;left: 50%;z-index: -1;}#sk-container-id-2 div.sk-parallel-item {display: flex;flex-direction: column;z-index: 1;position: relative;background-color: white;}#sk-container-id-2 div.sk-parallel-item:first-child::after {align-self: flex-end;width: 50%;}#sk-container-id-2 div.sk-parallel-item:last-child::after {align-self: flex-start;width: 50%;}#sk-container-id-2 div.sk-parallel-item:only-child::after {width: 0;}#sk-container-id-2 div.sk-dashed-wrapped {border: 1px dashed gray;margin: 0 0.4em 0.5em 0.4em;box-sizing: border-box;padding-bottom: 0.4em;background-color: white;}#sk-container-id-2 div.sk-label label {font-family: monospace;font-weight: bold;display: inline-block;line-height: 1.2em;}#sk-container-id-2 div.sk-label-container {text-align: center;}#sk-container-id-2 div.sk-container {/* jupyter's `normalize.less` sets `[hidden] { display: none; }` but bootstrap.min.css set `[hidden] { display: none !important; }` so we also need the `!important` here to be able to override the default hidden behavior on the sphinx rendered scikit-learn.org. See: https://github.com/scikit-learn/scikit-learn/issues/21755 */display: inline-block !important;position: relative;}#sk-container-id-2 div.sk-text-repr-fallback {display: none;}</style><div id=\"sk-container-id-2\" class=\"sk-top-container\"><div class=\"sk-text-repr-fallback\"><pre>Pipeline(steps=[(&#x27;nan_transformer&#x27;, FillNan()),\n",
       "                (&#x27;type_cast&#x27;, TypeCastingCourtRoom(court_room=&#x27;court_room&#x27;)),\n",
       "                (&#x27;remove_outliers&#x27;,\n",
       "                 FunctionSampler(func=&lt;function removingoutliers at 0x0000015485817040&gt;,\n",
       "                                 validate=False)),\n",
       "                (&#x27;cleaning_columns&#x27;,\n",
       "                 CleaningAgeGenderSentence(Age=&#x27;Age&#x27;, Gender=&#x27;Gender&#x27;,\n",
       "                                           Sentence=&#x27;Sentence&#x27;)),\n",
       "                (&#x27;cleaning_offence&#x27;, CleaningOffence(offence=&#x27;offence&#x27;)),\n",
       "                (&#x27;ohe&#x27;, OHE()),\n",
       "                (&#x27;over&#x27;,\n",
       "                 RandomOverSampler(random_state=42, sampling_strategy=1)),\n",
       "                (&#x27;pca&#x27;, PCAColumns()),\n",
       "                (&#x27;lr&#x27;, LogisticRegression(random_state=1))])</pre><b>In a Jupyter environment, please rerun this cell to show the HTML representation or trust the notebook. <br />On GitHub, the HTML representation is unable to render, please try loading this page with nbviewer.org.</b></div><div class=\"sk-container\" hidden><div class=\"sk-item sk-dashed-wrapped\"><div class=\"sk-label-container\"><div class=\"sk-label sk-toggleable\"><input class=\"sk-toggleable__control sk-hidden--visually\" id=\"sk-estimator-id-11\" type=\"checkbox\" ><label for=\"sk-estimator-id-11\" class=\"sk-toggleable__label sk-toggleable__label-arrow\">Pipeline</label><div class=\"sk-toggleable__content\"><pre>Pipeline(steps=[(&#x27;nan_transformer&#x27;, FillNan()),\n",
       "                (&#x27;type_cast&#x27;, TypeCastingCourtRoom(court_room=&#x27;court_room&#x27;)),\n",
       "                (&#x27;remove_outliers&#x27;,\n",
       "                 FunctionSampler(func=&lt;function removingoutliers at 0x0000015485817040&gt;,\n",
       "                                 validate=False)),\n",
       "                (&#x27;cleaning_columns&#x27;,\n",
       "                 CleaningAgeGenderSentence(Age=&#x27;Age&#x27;, Gender=&#x27;Gender&#x27;,\n",
       "                                           Sentence=&#x27;Sentence&#x27;)),\n",
       "                (&#x27;cleaning_offence&#x27;, CleaningOffence(offence=&#x27;offence&#x27;)),\n",
       "                (&#x27;ohe&#x27;, OHE()),\n",
       "                (&#x27;over&#x27;,\n",
       "                 RandomOverSampler(random_state=42, sampling_strategy=1)),\n",
       "                (&#x27;pca&#x27;, PCAColumns()),\n",
       "                (&#x27;lr&#x27;, LogisticRegression(random_state=1))])</pre></div></div></div><div class=\"sk-serial\"><div class=\"sk-item\"><div class=\"sk-estimator sk-toggleable\"><input class=\"sk-toggleable__control sk-hidden--visually\" id=\"sk-estimator-id-12\" type=\"checkbox\" ><label for=\"sk-estimator-id-12\" class=\"sk-toggleable__label sk-toggleable__label-arrow\">FillNan</label><div class=\"sk-toggleable__content\"><pre>FillNan()</pre></div></div></div><div class=\"sk-item\"><div class=\"sk-estimator sk-toggleable\"><input class=\"sk-toggleable__control sk-hidden--visually\" id=\"sk-estimator-id-13\" type=\"checkbox\" ><label for=\"sk-estimator-id-13\" class=\"sk-toggleable__label sk-toggleable__label-arrow\">TypeCastingCourtRoom</label><div class=\"sk-toggleable__content\"><pre>TypeCastingCourtRoom(court_room=&#x27;court_room&#x27;)</pre></div></div></div><div class=\"sk-item\"><div class=\"sk-estimator sk-toggleable\"><input class=\"sk-toggleable__control sk-hidden--visually\" id=\"sk-estimator-id-14\" type=\"checkbox\" ><label for=\"sk-estimator-id-14\" class=\"sk-toggleable__label sk-toggleable__label-arrow\">FunctionSampler</label><div class=\"sk-toggleable__content\"><pre>FunctionSampler(func=&lt;function removingoutliers at 0x0000015485817040&gt;,\n",
       "                validate=False)</pre></div></div></div><div class=\"sk-item\"><div class=\"sk-estimator sk-toggleable\"><input class=\"sk-toggleable__control sk-hidden--visually\" id=\"sk-estimator-id-15\" type=\"checkbox\" ><label for=\"sk-estimator-id-15\" class=\"sk-toggleable__label sk-toggleable__label-arrow\">CleaningAgeGenderSentence</label><div class=\"sk-toggleable__content\"><pre>CleaningAgeGenderSentence(Age=&#x27;Age&#x27;, Gender=&#x27;Gender&#x27;, Sentence=&#x27;Sentence&#x27;)</pre></div></div></div><div class=\"sk-item\"><div class=\"sk-estimator sk-toggleable\"><input class=\"sk-toggleable__control sk-hidden--visually\" id=\"sk-estimator-id-16\" type=\"checkbox\" ><label for=\"sk-estimator-id-16\" class=\"sk-toggleable__label sk-toggleable__label-arrow\">CleaningOffence</label><div class=\"sk-toggleable__content\"><pre>CleaningOffence(offence=&#x27;offence&#x27;)</pre></div></div></div><div class=\"sk-item\"><div class=\"sk-estimator sk-toggleable\"><input class=\"sk-toggleable__control sk-hidden--visually\" id=\"sk-estimator-id-17\" type=\"checkbox\" ><label for=\"sk-estimator-id-17\" class=\"sk-toggleable__label sk-toggleable__label-arrow\">OHE</label><div class=\"sk-toggleable__content\"><pre>OHE()</pre></div></div></div><div class=\"sk-item\"><div class=\"sk-estimator sk-toggleable\"><input class=\"sk-toggleable__control sk-hidden--visually\" id=\"sk-estimator-id-18\" type=\"checkbox\" ><label for=\"sk-estimator-id-18\" class=\"sk-toggleable__label sk-toggleable__label-arrow\">RandomOverSampler</label><div class=\"sk-toggleable__content\"><pre>RandomOverSampler(random_state=42, sampling_strategy=1)</pre></div></div></div><div class=\"sk-item\"><div class=\"sk-estimator sk-toggleable\"><input class=\"sk-toggleable__control sk-hidden--visually\" id=\"sk-estimator-id-19\" type=\"checkbox\" ><label for=\"sk-estimator-id-19\" class=\"sk-toggleable__label sk-toggleable__label-arrow\">PCAColumns</label><div class=\"sk-toggleable__content\"><pre>PCAColumns()</pre></div></div></div><div class=\"sk-item\"><div class=\"sk-estimator sk-toggleable\"><input class=\"sk-toggleable__control sk-hidden--visually\" id=\"sk-estimator-id-20\" type=\"checkbox\" ><label for=\"sk-estimator-id-20\" class=\"sk-toggleable__label sk-toggleable__label-arrow\">LogisticRegression</label><div class=\"sk-toggleable__content\"><pre>LogisticRegression(random_state=1)</pre></div></div></div></div></div></div></div>"
      ],
      "text/plain": [
       "Pipeline(steps=[('nan_transformer', FillNan()),\n",
       "                ('type_cast', TypeCastingCourtRoom(court_room='court_room')),\n",
       "                ('remove_outliers',\n",
       "                 FunctionSampler(func=<function removingoutliers at 0x0000015485817040>,\n",
       "                                 validate=False)),\n",
       "                ('cleaning_columns',\n",
       "                 CleaningAgeGenderSentence(Age='Age', Gender='Gender',\n",
       "                                           Sentence='Sentence')),\n",
       "                ('cleaning_offence', CleaningOffence(offence='offence')),\n",
       "                ('ohe', OHE()),\n",
       "                ('over',\n",
       "                 RandomOverSampler(random_state=42, sampling_strategy=1)),\n",
       "                ('pca', PCAColumns()),\n",
       "                ('lr', LogisticRegression(random_state=1))])"
      ]
     },
     "execution_count": 27,
     "metadata": {},
     "output_type": "execute_result"
    }
   ],
   "source": [
    "model"
   ]
  },
  {
   "cell_type": "code",
   "execution_count": 28,
   "metadata": {},
   "outputs": [
    {
     "data": {
      "text/plain": [
       "0"
      ]
     },
     "execution_count": 28,
     "metadata": {},
     "output_type": "execute_result"
    }
   ],
   "source": [
    "model.predict(\n",
    "pd.DataFrame([['Male', '27 Years', 'ABH Assault occasioning actual bodily harm',\n",
    "                                   'Custodial immediate', 3, 15.21, 7.57,\n",
    "                                   'May', 'For Trial']],\n",
    "                                 columns=['Gender', 'Age', 'offence', 'Sentence', 'court_room', 'temp_max',\n",
    "                                          'temp_min', 'month', 'reason'])\n",
    ")[0]"
   ]
  },
  {
   "cell_type": "code",
   "execution_count": 29,
   "metadata": {},
   "outputs": [],
   "source": [
    "data={\n",
    "    \"Gender\":\"Male\",\n",
    "    \"Age\" : \"27 Years\",\n",
    "    \"offence\":\"ABH Assault occasioning actual bodily harm\",\n",
    "    \"Sentence\":\"Custodial immediate\",\n",
    "    \"court_room\":3,\n",
    "    \"temp_max\":15.21,\n",
    "    \"temp_min\": 7.57,\n",
    "    \"month\" : \"May\",\n",
    "    \"reason\":\"For Trial\"   \n",
    "}"
   ]
  },
  {
   "cell_type": "code",
   "execution_count": 30,
   "metadata": {},
   "outputs": [
    {
     "data": {
      "text/plain": [
       "0"
      ]
     },
     "execution_count": 30,
     "metadata": {},
     "output_type": "execute_result"
    }
   ],
   "source": [
    "model.predict(pd.DataFrame([data]))[0]"
   ]
  },
  {
   "cell_type": "code",
   "execution_count": 31,
   "metadata": {},
   "outputs": [
    {
     "data": {
      "text/plain": [
       "'3.8.5'"
      ]
     },
     "execution_count": 31,
     "metadata": {},
     "output_type": "execute_result"
    }
   ],
   "source": [
    "from platform import python_version\n",
    "python_version()"
   ]
  },
  {
   "cell_type": "code",
   "execution_count": 32,
   "metadata": {},
   "outputs": [
    {
     "data": {
      "text/plain": [
       "1194    0\n",
       "45      0\n",
       "1477    0\n",
       "1293    1\n",
       "1736    0\n",
       "       ..\n",
       "1791    0\n",
       "1096    0\n",
       "1932    1\n",
       "235     0\n",
       "1061    1\n",
       "Name: incident_dates, Length: 1400, dtype: int32"
      ]
     },
     "execution_count": 32,
     "metadata": {},
     "output_type": "execute_result"
    }
   ],
   "source": [
    "y_train"
   ]
  },
  {
   "cell_type": "code",
   "execution_count": 33,
   "metadata": {},
   "outputs": [
    {
     "data": {
      "text/plain": [
       "Gender                               Male\n",
       "Age                              72 Years\n",
       "offence       Indecent assault [6 counts]\n",
       "Sentence              Custodial immediate\n",
       "court_room                            2.0\n",
       "temp_max                             9.85\n",
       "temp_min                             2.73\n",
       "month                                 Nov\n",
       "reason                Trial (Part Heard) \n",
       "Name: 1817, dtype: object"
      ]
     },
     "execution_count": 33,
     "metadata": {},
     "output_type": "execute_result"
    }
   ],
   "source": [
    "x_train.iloc[1293]"
   ]
  },
  {
   "cell_type": "code",
   "execution_count": 34,
   "metadata": {},
   "outputs": [
    {
     "name": "stdout",
     "output_type": "stream",
     "text": [
      "<class 'pandas.core.frame.DataFrame'>\n",
      "Int64Index: 1400 entries, 1194 to 1061\n",
      "Data columns (total 9 columns):\n",
      " #   Column      Non-Null Count  Dtype  \n",
      "---  ------      --------------  -----  \n",
      " 0   Gender      1400 non-null   object \n",
      " 1   Age         1400 non-null   object \n",
      " 2   offence     1400 non-null   object \n",
      " 3   Sentence    1400 non-null   object \n",
      " 4   court_room  1400 non-null   object \n",
      " 5   temp_max    1400 non-null   float64\n",
      " 6   temp_min    1400 non-null   float64\n",
      " 7   month       1400 non-null   object \n",
      " 8   reason      1400 non-null   object \n",
      "dtypes: float64(2), object(7)\n",
      "memory usage: 141.7+ KB\n"
     ]
    }
   ],
   "source": [
    "x_train.info()"
   ]
  },
  {
   "cell_type": "code",
   "execution_count": null,
   "metadata": {},
   "outputs": [],
   "source": []
  }
 ],
 "metadata": {
  "kernelspec": {
   "display_name": "Python 3.8.0 (conda)",
   "language": "python",
   "name": "python3"
  },
  "language_info": {
   "codemirror_mode": {
    "name": "ipython",
    "version": 3
   },
   "file_extension": ".py",
   "mimetype": "text/x-python",
   "name": "python",
   "nbconvert_exporter": "python",
   "pygments_lexer": "ipython3",
   "version": "3.8.0"
  },
  "vscode": {
   "interpreter": {
    "hash": "216e25a407db2097ffd7b0346236e06fed352cbe277ce0a070a72068900d45a4"
   }
  }
 },
 "nbformat": 4,
 "nbformat_minor": 4
}
